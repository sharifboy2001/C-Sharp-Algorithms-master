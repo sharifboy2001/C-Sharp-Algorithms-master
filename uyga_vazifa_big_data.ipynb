{
  "nbformat": 4,
  "nbformat_minor": 0,
  "metadata": {
    "colab": {
      "provenance": [],
      "authorship_tag": "ABX9TyMoEDCyzPKq1f12vw0McVKO",
      "include_colab_link": true
    },
    "kernelspec": {
      "name": "python3",
      "display_name": "Python 3"
    },
    "language_info": {
      "name": "python"
    }
  },
  "cells": [
    {
      "cell_type": "markdown",
      "metadata": {
        "id": "view-in-github",
        "colab_type": "text"
      },
      "source": [
        "<a href=\"https://colab.research.google.com/github/sharifboy2001/C-Sharp-Algorithms-master/blob/main/uyga_vazifa_big_data.ipynb\" target=\"_parent\"><img src=\"https://colab.research.google.com/assets/colab-badge.svg\" alt=\"Open In Colab\"/></a>"
      ]
    },
    {
      "cell_type": "code",
      "execution_count": 7,
      "metadata": {
        "colab": {
          "base_uri": "https://localhost:8080/"
        },
        "id": "uPG5zM_Hka4M",
        "outputId": "1b641bc9-54cf-47a2-de5a-587eb0d06b44"
      },
      "outputs": [
        {
          "output_type": "stream",
          "name": "stdout",
          "text": [
            "O'rtacha qiymatlar (Mean):\n",
            " artist_count            1.556139e+00\n",
            "released_year           2.018238e+03\n",
            "released_month          6.033578e+00\n",
            "released_day            1.393075e+01\n",
            "in_spotify_playlists    5.200125e+03\n",
            "in_spotify_charts       1.200944e+01\n",
            "streams                 5.141374e+08\n",
            "in_apple_playlists      6.781217e+01\n",
            "danceability_%          6.696957e+01\n",
            "valence_%               5.143127e+01\n",
            "energy_%                6.427912e+01\n",
            "acousticness_%          2.705771e+01\n",
            "instrumentalness_%      1.581322e+00\n",
            "liveness_%              1.821301e+01\n",
            "speechiness_%           1.013116e+01\n",
            "dtype: float64\n"
          ]
        }
      ],
      "source": [
        "import pandas as pd\n",
        "\n",
        "def calculate_mean(df):\n",
        "    \"\"\"Jadvaldagi sonli ustunlar uchun o'rtacha (mean) qiymatlarni hisoblaydi.\"\"\"\n",
        "    numerical_columns = [\n",
        "        'artist_count', 'released_year', 'released_month', 'released_day',\n",
        "        'in_spotify_playlists', 'in_spotify_charts', 'streams',\n",
        "        'in_apple_playlists', 'danceability_%', 'valence_%', 'energy_%',\n",
        "        'acousticness_%', 'instrumentalness_%', 'liveness_%', 'speechiness_%'\n",
        "    ]\n",
        "\n",
        "    # Matnli qiymatlar xatolik keltirib chiqarmasligi uchun, raqamli ustunlarni majburan raqamga o'tkazamiz\n",
        "    df[numerical_columns] = df[numerical_columns].apply(pd.to_numeric, errors='coerce')\n",
        "\n",
        "    mean_values = df[numerical_columns].mean()\n",
        "    return mean_values\n",
        "\n",
        "# CSV faylini yuklash va funksiyani chaqirish\n",
        "df = pd.read_csv('/content/Spotify Most Streamed Songs.csv')\n",
        "mean_values = calculate_mean(df)\n",
        "print(\"O'rtacha qiymatlar (Mean):\\n\", mean_values)\n"
      ]
    },
    {
      "cell_type": "code",
      "source": [
        "def calculate_median(df):\n",
        "    \"\"\"Jadvaldagi sonli ustunlar uchun median qiymatlarni hisoblaydi.\"\"\"\n",
        "    numerical_columns = [\n",
        "        'artist_count', 'released_year', 'released_month', 'released_day',\n",
        "        'in_spotify_playlists', 'in_spotify_charts', 'streams',\n",
        "        'in_apple_playlists', 'danceability_%', 'valence_%', 'energy_%',\n",
        "        'acousticness_%', 'instrumentalness_%', 'liveness_%', 'speechiness_%'\n",
        "    ]\n",
        "    median_values = df[numerical_columns].median()\n",
        "    return median_values\n",
        "\n",
        "median_values = calculate_median(df)\n",
        "print(\"Median qiymatlar:\\n\", median_values)\n"
      ],
      "metadata": {
        "colab": {
          "base_uri": "https://localhost:8080/"
        },
        "id": "bt68yLFgnq6c",
        "outputId": "a5842a5a-ac2f-4602-8e3e-a4d0b3e17194"
      },
      "execution_count": 8,
      "outputs": [
        {
          "output_type": "stream",
          "name": "stdout",
          "text": [
            "Median qiymatlar:\n",
            " artist_count                    1.0\n",
            "released_year                2022.0\n",
            "released_month                  6.0\n",
            "released_day                   13.0\n",
            "in_spotify_playlists         2224.0\n",
            "in_spotify_charts               3.0\n",
            "streams                 290530915.0\n",
            "in_apple_playlists             34.0\n",
            "danceability_%                 69.0\n",
            "valence_%                      51.0\n",
            "energy_%                       66.0\n",
            "acousticness_%                 18.0\n",
            "instrumentalness_%              0.0\n",
            "liveness_%                     12.0\n",
            "speechiness_%                   6.0\n",
            "dtype: float64\n"
          ]
        }
      ]
    },
    {
      "cell_type": "code",
      "source": [
        "def calculate_mode(df):\n",
        "    \"\"\"Jadvaldagi sonli ustunlar uchun moda (eng ko'p uchraydigan qiymat)larni hisoblaydi.\"\"\"\n",
        "    numerical_columns = [\n",
        "        'artist_count', 'released_year', 'released_month', 'released_day',\n",
        "        'in_spotify_playlists', 'in_spotify_charts', 'streams',\n",
        "        'in_apple_playlists', 'danceability_%', 'valence_%', 'energy_%',\n",
        "        'acousticness_%', 'instrumentalness_%', 'liveness_%', 'speechiness_%'\n",
        "    ]\n",
        "    mode_values = df[numerical_columns].mode().iloc[0]\n",
        "    return mode_values\n",
        "\n",
        "mode_values = calculate_mode(df)\n",
        "print(\"Moda qiymatlar (Mode):\\n\", mode_values)\n"
      ],
      "metadata": {
        "colab": {
          "base_uri": "https://localhost:8080/"
        },
        "id": "rHqGdX_doCrc",
        "outputId": "1cc7e5f0-9865-4593-970a-fecdd92ecf86"
      },
      "execution_count": 9,
      "outputs": [
        {
          "output_type": "stream",
          "name": "stdout",
          "text": [
            "Moda qiymatlar (Mode):\n",
            " artist_count                    1.0\n",
            "released_year                2022.0\n",
            "released_month                  1.0\n",
            "released_day                    1.0\n",
            "in_spotify_playlists           86.0\n",
            "in_spotify_charts               0.0\n",
            "streams                 156338624.0\n",
            "in_apple_playlists              0.0\n",
            "danceability_%                 70.0\n",
            "valence_%                      24.0\n",
            "energy_%                       74.0\n",
            "acousticness_%                  0.0\n",
            "instrumentalness_%              0.0\n",
            "liveness_%                     11.0\n",
            "speechiness_%                   4.0\n",
            "Name: 0, dtype: float64\n"
          ]
        }
      ]
    }
  ]
}